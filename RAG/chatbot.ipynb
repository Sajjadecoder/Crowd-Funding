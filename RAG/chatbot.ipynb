{
 "cells": [
  {
   "cell_type": "code",
   "execution_count": 54,
   "id": "1a92b84e",
   "metadata": {},
   "outputs": [],
   "source": [
    "import os\n",
    "import glob\n",
    "from dotenv import load_dotenv\n",
    "import gradio as gr"
   ]
  },
  {
   "cell_type": "code",
   "execution_count": 83,
   "id": "4d6960ee",
   "metadata": {},
   "outputs": [],
   "source": [
    "from langchain.document_loaders import DirectoryLoader, TextLoader\n",
    "from langchain.text_splitter import CharacterTextSplitter\n",
    "from langchain_chroma import Chroma\n",
    "from langchain.memory import ConversationBufferMemory\n",
    "from langchain.chains import ConversationalRetrievalChain\n",
    "from langchain_community.embeddings import OllamaEmbeddings\n",
    "from langchain.prompts import PromptTemplate\n",
    "from langchain_groq import ChatGroq"
   ]
  },
  {
   "cell_type": "code",
   "execution_count": 100,
   "id": "c02b1167",
   "metadata": {},
   "outputs": [],
   "source": [
    "load_dotenv(override=True)\n",
    "GROQ_API_KEY = os.getenv(\"GROQ_API_KEY\")\n",
    "\n",
    "if not GROQ_API_KEY:\n",
    "    raise ValueError(\"GROQ_API_KEY not found in environment. Please set it in your .env file.\")\n",
    "\n",
    "# Configuration\n",
    "MODEL = 'llama-3.1-8b-instant'\n",
    "db_name = 'vector_db'"
   ]
  },
  {
   "cell_type": "code",
   "execution_count": 59,
   "id": "d5528643",
   "metadata": {},
   "outputs": [],
   "source": [
    "folders = glob.glob('knowledge_base/*')\n",
    "text_loader_kwargs = {'encoding': 'utf8'}\n",
    "\n",
    "documents = []\n",
    "for folder in folders:\n",
    "    doc_type = os.path.basename(folder)\n",
    "    loader = DirectoryLoader(folder, glob='**/*.md', loader_cls=TextLoader, loader_kwargs=text_loader_kwargs)\n",
    "    folder_docs = loader.load()\n",
    "    for doc in folder_docs:\n",
    "        doc.metadata['doc_type'] = doc_type\n",
    "        documents.append(doc)"
   ]
  },
  {
   "cell_type": "code",
   "execution_count": 60,
   "id": "07ff3ec6",
   "metadata": {},
   "outputs": [],
   "source": [
    "text_splitter = CharacterTextSplitter(chunk_size=1000, chunk_overlap=200)\n",
    "chunks = text_splitter.split_documents(documents)"
   ]
  },
  {
   "cell_type": "code",
   "execution_count": 62,
   "id": "b50d2d05",
   "metadata": {},
   "outputs": [],
   "source": [
    "embeddings = OllamaEmbeddings(model=\"nomic-embed-text\")"
   ]
  },
  {
   "cell_type": "code",
   "execution_count": 63,
   "id": "38307be8",
   "metadata": {},
   "outputs": [],
   "source": [
    "if os.path.exists(db_name):\n",
    "    Chroma(persist_directory=db_name, embedding_function=embeddings).delete_collection()"
   ]
  },
  {
   "cell_type": "code",
   "execution_count": 64,
   "id": "36149eb1",
   "metadata": {},
   "outputs": [],
   "source": [
    "vectorstore = Chroma.from_documents(documents=chunks, embedding=embeddings, persist_directory=db_name)"
   ]
  },
  {
   "cell_type": "code",
   "execution_count": 85,
   "id": "616e6a77",
   "metadata": {},
   "outputs": [],
   "source": [
    "qa_template = \"\"\"You are an AI assistant for a crowdfunding platform founded by Saad Zaidi, Waliuddin Ahmed, and Sajjad Ahmed - Computer Science students at FAST University.\n",
    "\n",
    "YOUR ROLE:\n",
    "You help users understand and navigate our crowdfunding platform where people can donate to verified causes through multiple payment methods including credit/debit cards, PayPal, EasyPaisa, and JazzCash.\n",
    "\n",
    "INSTRUCTIONS:\n",
    "- For greetings: Respond warmly and briefly\n",
    "- For questions: Use the context below to answer accurately\n",
    "- If uncertain: Say \"I don't have that specific information in my knowledge base\"\n",
    "- Be professional, concise, and helpful\n",
    "- Break down complex processes into clear steps\n",
    "\n",
    "CONTEXT:\n",
    "{context}\n",
    "\n",
    "QUESTION: {question}\n",
    "\n",
    "ANSWER:\"\"\"\n",
    "\n",
    "QA_PROMPT = PromptTemplate(\n",
    "    template=qa_template,\n",
    "    input_variables=[\"context\", \"question\"]\n",
    ")"
   ]
  },
  {
   "cell_type": "code",
   "execution_count": 101,
   "id": "da499da2",
   "metadata": {},
   "outputs": [],
   "source": [
    "llm = ChatGroq(\n",
    "    model=MODEL,\n",
    "    api_key=GROQ_API_KEY,\n",
    "    temperature=0.7\n",
    ")\n",
    "\n",
    "retriever = vectorstore.as_retriever(search_kwargs={\"k\": 3})\n",
    "\n",
    "memory = ConversationBufferMemory(\n",
    "    memory_key='chat_history',\n",
    "    return_messages=True,\n",
    "    output_key='answer'\n",
    ")\n",
    "\n",
    "conversation_chain = ConversationalRetrievalChain.from_llm(\n",
    "    llm=llm,\n",
    "    retriever=retriever,\n",
    "    memory=memory,\n",
    "    combine_docs_chain_kwargs={\"prompt\": QA_PROMPT}\n",
    ")"
   ]
  },
  {
   "cell_type": "code",
   "execution_count": 87,
   "id": "5f62885e",
   "metadata": {},
   "outputs": [],
   "source": [
    "small_talk = {\n",
    "    \"hi\": \"Hello! How can I help you today?\",\n",
    "    \"hello\": \"Hi there! Welcome to our crowdfunding platform.\",\n",
    "    \"hey\": \"Hey! What can I assist you with?\",\n",
    "    \"thanks\": \"You're welcome!\",\n",
    "    \"thank you\": \"Happy to help!\",\n",
    "    \"bye\": \"Goodbye! Have a great day!\",\n",
    "    \"goodbye\": \"Take care! Feel free to come back anytime.\"\n",
    "}"
   ]
  },
  {
   "cell_type": "code",
   "execution_count": 102,
   "id": "14dff7f0",
   "metadata": {},
   "outputs": [],
   "source": [
    "def chat(message, history):\n",
    "    if message.lower().strip() in small_talk:\n",
    "        return small_talk[message.lower().strip()]\n",
    "    \n",
    "    try:\n",
    "        result = conversation_chain.invoke({\"question\": message})\n",
    "        return result['answer']\n",
    "    except Exception as e:\n",
    "        print(f\"Error in chat: {e}\")\n",
    "        return \"I apologize, but I encountered an error processing your request. Please try again or rephrase your question.\"\n"
   ]
  },
  {
   "cell_type": "code",
   "execution_count": 103,
   "id": "33e75880",
   "metadata": {},
   "outputs": [],
   "source": [
    "demo = gr.ChatInterface(\n",
    "    fn=chat,\n",
    "    type=\"messages\",\n",
    "    title=\"Crowdfunding Platform Assistant\",\n",
    "    description=\"Ask me anything about campaigns, donations, payment methods, or platform policies!\",\n",
    "    examples=[\n",
    "        \"How do I create a campaign?\",\n",
    "        \"What payment methods do you support?\",\n",
    "        \"Tell me about the founders\",\n",
    "        \"How does the campaign approval process work?\",\n",
    "        \"What are the platform fees?\"\n",
    "    ],\n",
    "    theme=gr.themes.Soft()\n",
    ")"
   ]
  },
  {
   "cell_type": "code",
   "execution_count": 106,
   "id": "602eea3f",
   "metadata": {},
   "outputs": [
    {
     "name": "stdout",
     "output_type": "stream",
     "text": [
      "Rerunning server... use `close()` to stop if you need to change `launch()` parameters.\n",
      "----\n",
      "* Running on public URL: https://d68bdf03cf4a116a17.gradio.live\n",
      "\n",
      "This share link expires in 1 week. For free permanent hosting and GPU upgrades, run `gradio deploy` from the terminal in the working directory to deploy to Hugging Face Spaces (https://huggingface.co/spaces)\n"
     ]
    },
    {
     "data": {
      "text/html": [
       "<div><iframe src=\"https://d68bdf03cf4a116a17.gradio.live\" width=\"100%\" height=\"500\" allow=\"autoplay; camera; microphone; clipboard-read; clipboard-write;\" frameborder=\"0\" allowfullscreen></iframe></div>"
      ],
      "text/plain": [
       "<IPython.core.display.HTML object>"
      ]
     },
     "metadata": {},
     "output_type": "display_data"
    },
    {
     "data": {
      "text/plain": []
     },
     "execution_count": 106,
     "metadata": {},
     "output_type": "execute_result"
    }
   ],
   "source": [
    "demo.launch(inbrowser=True, share=True)"
   ]
  },
  {
   "cell_type": "code",
   "execution_count": null,
   "id": "a4953862",
   "metadata": {},
   "outputs": [],
   "source": []
  }
 ],
 "metadata": {
  "kernelspec": {
   "display_name": ".venv",
   "language": "python",
   "name": "python3"
  },
  "language_info": {
   "codemirror_mode": {
    "name": "ipython",
    "version": 3
   },
   "file_extension": ".py",
   "mimetype": "text/x-python",
   "name": "python",
   "nbconvert_exporter": "python",
   "pygments_lexer": "ipython3",
   "version": "3.12.4"
  }
 },
 "nbformat": 4,
 "nbformat_minor": 5
}
