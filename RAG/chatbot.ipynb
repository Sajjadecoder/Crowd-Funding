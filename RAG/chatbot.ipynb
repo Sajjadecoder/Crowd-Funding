{
 "cells": [
  {
   "cell_type": "code",
   "execution_count": 2,
   "id": "1a92b84e",
   "metadata": {},
   "outputs": [
    {
     "name": "stderr",
     "output_type": "stream",
     "text": [
      "d:\\Crowd-Funding\\.venv\\Lib\\site-packages\\tqdm\\auto.py:21: TqdmWarning: IProgress not found. Please update jupyter and ipywidgets. See https://ipywidgets.readthedocs.io/en/stable/user_install.html\n",
      "  from .autonotebook import tqdm as notebook_tqdm\n"
     ]
    }
   ],
   "source": [
    "import os\n",
    "import glob\n",
    "from dotenv import load_dotenv\n",
    "import gradio as gr"
   ]
  },
  {
   "cell_type": "code",
   "execution_count": 3,
   "id": "4d6960ee",
   "metadata": {},
   "outputs": [],
   "source": [
    "from langchain.document_loaders import DirectoryLoader, TextLoader\n",
    "from langchain.text_splitter import CharacterTextSplitter\n",
    "from langchain.schema import Document\n",
    "from langchain_openai import OpenAIEmbeddings, ChatOpenAI\n",
    "from langchain_chroma import Chroma\n",
    "import matplotlib.pyplot as plt\n",
    "import numpy as np\n",
    "from langchain.memory import ConversationBufferMemory\n",
    "from langchain.chains import ConversationalRetrievalChain\n",
    "from langchain.embeddings import HuggingFaceEmbeddings"
   ]
  },
  {
   "cell_type": "code",
   "execution_count": 30,
   "id": "fa7c52a7",
   "metadata": {},
   "outputs": [],
   "source": [
    "MODEL = 'llama3.2'\n",
    "db_name = 'vector_db'"
   ]
  },
  {
   "cell_type": "code",
   "execution_count": 5,
   "id": "d5528643",
   "metadata": {},
   "outputs": [],
   "source": [
    "folders = glob.glob('knowledge_base/*')\n",
    "text_loader_kwargs = {'encoding': 'utf8'}\n",
    "\n",
    "documents = []\n",
    "for folder in folders:\n",
    "    doc_type = os.path.basename(folder)\n",
    "    loader = DirectoryLoader(folder, glob='**/*.md', loader_cls=TextLoader, loader_kwargs=text_loader_kwargs)\n",
    "    folder_docs = loader.load()\n",
    "    for doc in folder_docs:\n",
    "        doc.metadata['doc_type'] = doc_type\n",
    "        documents.append(doc)"
   ]
  },
  {
   "cell_type": "code",
   "execution_count": 6,
   "id": "fcc4633a",
   "metadata": {},
   "outputs": [
    {
     "name": "stdout",
     "output_type": "stream",
     "text": [
      "page_content='# Admin Guidelines for Case Approval\n",
      "\n",
      "## Admin Responsibilities\n",
      "\n",
      "### Primary Duties\n",
      "- Review campaign submissions thoroughly\n",
      "- Verify all documentation authenticity\n",
      "- Conduct background checks when necessary\n",
      "- Communicate with campaign creators professionally\n",
      "- Make fair, unbiased approval decisions\n",
      "- Document reasoning for all decisions\n",
      "- Escalate complex cases appropriately\n",
      "\n",
      "### Access Levels\n",
      "\n",
      "#### Junior Admin\n",
      "- Review standard campaigns (<PKR 500,000)\n",
      "- Request additional documentation\n",
      "- Recommend approval/rejection (requires senior approval)\n",
      "- Handle basic support queries\n",
      "\n",
      "#### Senior Admin\n",
      "- Final approval authority\n",
      "- Review complex/high-value campaigns\n",
      "- Handle escalated cases\n",
      "- Review appeals\n",
      "- Senior admin makes final decision\n",
      "- Mentor junior admins\n",
      "- Quality assurance checks\n",
      "\n",
      "#### Super Admin\n",
      "- System-wide oversight\n",
      "- Policy decisions\n",
      "- Resolve admin conflicts\n",
      "- Access to all campaigns and data\n",
      "- Platform configuration\n",
      "\n",
      "## Review Process Guidelines\n",
      "\n",
      "### Initial Assessment (First 24 Hours)\n",
      "1. Check campaign completeness\n",
      "2. Run automated fraud checks\n",
      "3. Verify document formats and quality\n",
      "4. Assess urgency (medical emergencies prioritized)\n",
      "5. Request missing documentation if needed\n",
      "\n",
      "### Deep Verification (24-72 Hours)\n",
      "1. Authenticate submitted documents\n",
      "2. Cross-check information consistency\n",
      "3. Verify identity (CNIC/Passport validation)\n",
      "4. Contact creator if clarification needed\n",
      "5. Conduct online research (social media, news)\n",
      "6. Verify bank account details\n",
      "7. Check for duplicate campaigns\n",
      "\n",
      "### Decision Making (72-120 Hours)\n",
      "1. Review all collected evidence\n",
      "2. Apply verification criteria systematically\n",
      "3. Consult with senior admin if uncertain\n",
      "4. Document decision reasoning clearly\n",
      "5. Prepare feedback for creator\n",
      "\n",
      "## Communication Standards\n",
      "\n",
      "### With Campaign Creators\n",
      "- Professional and courteous tone\n",
      "- Clear explanations for requests/decisions\n",
      "- Timely responses (within 24 hours)\n",
      "- Specific guidance on required fixes\n",
      "- Empathetic to difficult situations\n",
      "- Firm but fair on policy enforcement\n",
      "\n",
      "### Internal Communication\n",
      "- Update case notes regularly\n",
      "- Escalate concerns promptly\n",
      "- Share learning from complex cases\n",
      "- Collaborate on difficult decisions\n",
      "- Report bugs or system issues\n",
      "\n",
      "## Common Scenarios\n",
      "\n",
      "### Scenario 1: Incomplete Documentation\n",
      "**Action**: \n",
      "- Mark campaign as \"Pending - Additional Info Required\"\n",
      "- Send specific list of missing items\n",
      "- Set deadline (7 days)\n",
      "- Follow up if no response after 5 days\n",
      "- Auto-reject if no response after deadline\n",
      "\n",
      "### Scenario 2: Suspicious Documents\n",
      "**Action**:\n",
      "- Flag for detailed review\n",
      "- Contact issuing authority if possible\n",
      "- Request additional verification\n",
      "- Escalate to senior admin\n",
      "- Reject if authenticity cannot be confirmed\n",
      "\n",
      "### Scenario 3: Medical Emergency\n",
      "**Action**:\n",
      "- Prioritize in review queue\n",
      "- Fast-track if documentation is complete\n",
      "- Contact hospital directly for verification if needed\n",
      "- Approve within 24-48 hours if possible\n",
      "- Monitor closely after approval\n",
      "\n",
      "### Scenario 4: High-Value Campaign (>PKR 1M)\n",
      "**Action**:\n",
      "- Assign to senior admin immediately\n",
      "- Require multi-admin approval\n",
      "- Extended verification process\n",
      "- In-person verification if local\n",
      "- Milestone-based fund release\n",
      "\n",
      "### Scenario 5: Appeals\n",
      "**Action**:\n",
      "- Review original rejection reason\n",
      "- Assess new evidence objectively\n",
      "- Different admin reviews appeal\n",
      "- Senior admin makes final decision\n",
      "- Detailed explanation regardless of outcome\n",
      "\n",
      "## Fraud Detection\n",
      "\n",
      "### Warning Signs\n",
      "- Inconsistent information\n",
      "- Poor quality or edited documents\n",
      "- Reluctance to provide verification\n",
      "- Pressure for quick approval\n",
      "- Multiple campaigns same person\n",
      "- Stolen photos or plagiarized text\n",
      "- Unverifiable institutions or contacts\n",
      "- Generic or template-like content\n",
      "\n",
      "### Investigation Steps\n",
      "1. Reverse image search on photos\n",
      "2. Verify institution/hospital existence\n",
      "3. Check social media profiles\n",
      "4. Google search for similar campaigns\n",
      "5. Contact references if provided\n",
      "6. Verify phone numbers and addresses\n",
      "7. Check against fraud database\n",
      "\n",
      "### Reporting Fraud\n",
      "- Document all evidence\n",
      "- Report to senior admin immediately\n",
      "- Flag user account\n",
      "- Add to internal watchlist\n",
      "- Report to authorities if serious\n",
      "- Inform affected donors if campaign was live\n",
      "\n",
      "## Quality Assurance\n",
      "\n",
      "### Self-Review Checklist\n",
      "Before approving any campaign:\n",
      "- [ ] All documents verified authentic\n",
      "- [ ] Identity confirmed beyond doubt\n",
      "- [ ] Campaign story is legitimate\n",
      "- [ ] Bank details verified\n",
      "- [ ] Funding goal is justified\n",
      "- [ ] No red flags present\n",
      "- [ ] Decision documented with reasoning\n",
      "- [ ] Creator notified of status\n",
      "\n",
      "### Performance Metrics\n",
      "Admins evaluated on:\n",
      "- Review turnaround time\n",
      "- Decision accuracy (appeal success rate)\n",
      "- Fraud detection rate\n",
      "- Creator satisfaction scores\n",
      "- Documentation quality\n",
      "- Adherence to guidelines\n",
      "\n",
      "## Ethical Considerations\n",
      "\n",
      "### Bias Prevention\n",
      "- Judge campaigns objectively\n",
      "- Don't favor certain causes over others\n",
      "- Treat all users equally\n",
      "- Base decisions on evidence only\n",
      "- Recognize personal biases\n",
      "\n",
      "### Confidentiality\n",
      "- Protect user privacy\n",
      "- Don't share personal information\n",
      "- Secure handling of documents\n",
      "- Follow data protection policies\n",
      "- Professional discretion at all times\n",
      "\n",
      "### Fairness\n",
      "- Apply criteria consistently\n",
      "- Give benefit of doubt when reasonable\n",
      "- Allow opportunity for correction\n",
      "- Explain decisions clearly\n",
      "- Fair appeals process\n",
      "\n",
      "## Continuous Improvement\n",
      "- Participate in weekly team meetings\n",
      "- Share feedback on process improvements\n",
      "- Stay updated on fraud trends\n",
      "- Learn from mistakes and appeals\n",
      "- Contribute to guideline updates\n",
      "' metadata={'source': 'knowledge_base\\\\case_approval_process\\\\admin_guidelines.md', 'doc_type': 'case_approval_process'}\n"
     ]
    }
   ],
   "source": [
    "print(documents[0])"
   ]
  },
  {
   "cell_type": "code",
   "execution_count": 7,
   "id": "07ff3ec6",
   "metadata": {},
   "outputs": [],
   "source": [
    "text_splitter = CharacterTextSplitter(chunk_size=1000, chunk_overlap=200)\n",
    "chunks = text_splitter.split_documents(documents)"
   ]
  },
  {
   "cell_type": "code",
   "execution_count": 11,
   "id": "edaaf400",
   "metadata": {},
   "outputs": [],
   "source": [
    "from langchain_community.embeddings import OllamaEmbeddings"
   ]
  },
  {
   "cell_type": "code",
   "execution_count": 13,
   "id": "b50d2d05",
   "metadata": {},
   "outputs": [],
   "source": [
    "embeddings = OllamaEmbeddings(model=\"nomic-embed-text\")"
   ]
  },
  {
   "cell_type": "code",
   "execution_count": 14,
   "id": "38307be8",
   "metadata": {},
   "outputs": [],
   "source": [
    "if os.path.exists(db_name):\n",
    "    Chroma(persist_directory=db_name, embedding_function=embeddings).delete_collection()"
   ]
  },
  {
   "cell_type": "code",
   "execution_count": 16,
   "id": "36149eb1",
   "metadata": {},
   "outputs": [],
   "source": [
    "vectorstore = Chroma.from_documents(documents=chunks, embedding=embeddings, persist_directory=db_name)"
   ]
  },
  {
   "cell_type": "code",
   "execution_count": 24,
   "id": "240d3bfc",
   "metadata": {},
   "outputs": [],
   "source": [
    "from langchain_ollama import OllamaLLM"
   ]
  },
  {
   "cell_type": "code",
   "execution_count": 45,
   "id": "dd78b501",
   "metadata": {},
   "outputs": [],
   "source": [
    "system_prompt = \"\"\"You are an AI assistant for a crowdfunding platform founded by Saad Zaidi, Waliuddin Ahmed, and Sajjad Ahmed - Computer Science students at FAST University.\n",
    "\n",
    "YOUR ROLE:\n",
    "You help users understand and navigate our crowdfunding platform where people can donate to verified causes through multiple payment methods including credit/debit cards, PayPal, EasyPaisa, and JazzCash.\n",
    "\n",
    "HOW TO RESPOND:\n",
    "\n",
    "1. FOR GREETINGS & CASUAL MESSAGES:\n",
    "   - Respond warmly and naturally to greetings (hi, hello, hey)\n",
    "   - Acknowledge thanks gracefully\n",
    "   - Be friendly when users say goodbye\n",
    "   - Keep casual responses brief and welcoming\n",
    "\n",
    "2. FOR QUESTIONS ABOUT THE PLATFORM:\n",
    "   - Use the knowledge base context provided to answer accurately\n",
    "   - Be specific and cite relevant information\n",
    "   - If the knowledge base has the answer, use it confidently\n",
    "   - Break down complex processes into clear steps\n",
    "\n",
    "3. WHEN YOU'RE UNCERTAIN:\n",
    "   - If the knowledge base doesn't contain the information, clearly state: \"I don't have that specific information in my knowledge base\"\n",
    "   - Offer to help with related questions you can answer\n",
    "   - Never make up information about policies, fees, or processes\n",
    "\n",
    "4. TONE & STYLE:\n",
    "   - Professional yet approachable\n",
    "   - Concise but complete - don't leave out important details\n",
    "   - Use simple language, avoid jargon\n",
    "   - Be empathetic, especially for campaigns related to hardships\n",
    "   - Stay positive and encouraging\n",
    "\n",
    "5. KEY TOPICS YOU HANDLE:\n",
    "   - Creating and managing campaigns\n",
    "   - Making donations and payment methods\n",
    "   - Campaign approval and verification process\n",
    "   - Platform policies and security\n",
    "   - Founder information and platform background\n",
    "   - Troubleshooting common issues\n",
    "\n",
    "REMEMBER: Your goal is to make users feel supported and confident using our platform, whether they're creating a campaign or making a donation.\"\"\""
   ]
  },
  {
   "cell_type": "code",
   "execution_count": 46,
   "id": "61e079e3",
   "metadata": {},
   "outputs": [],
   "source": [
    "llm = OllamaLLM(model=MODEL, temprature=0.7, system=system_prompt)\n",
    "\n",
    "retriever = vectorstore.as_retriever()\n",
    "\n",
    "memory = ConversationBufferMemory(memory_key='chat_history', return_messages=True)\n",
    "\n",
    "conversation_chain = ConversationalRetrievalChain.from_llm(llm=llm, retriever=retriever, memory=memory)"
   ]
  },
  {
   "cell_type": "code",
   "execution_count": 49,
   "id": "f862ee8e",
   "metadata": {},
   "outputs": [],
   "source": [
    "small_talk = {\n",
    "    \"hi\": \"Hello! How can I help you today?\",\n",
    "    \"hello\": \"Hi there 👋\",\n",
    "    \"thanks\": \"You're welcome!\",\n",
    "    \"thank you\": \"Happy to help!\"\n",
    "}"
   ]
  },
  {
   "cell_type": "code",
   "execution_count": 50,
   "id": "14dff7f0",
   "metadata": {},
   "outputs": [],
   "source": [
    "def chat(message, history):\n",
    "    if message.lower() in small_talk:\n",
    "        return small_talk[message]\n",
    "    else:\n",
    "        result = conversation_chain.invoke({\"question\": message})\n",
    "        return result['answer']"
   ]
  },
  {
   "cell_type": "code",
   "execution_count": 51,
   "id": "91a1f88d",
   "metadata": {},
   "outputs": [
    {
     "name": "stdout",
     "output_type": "stream",
     "text": [
      "* Running on local URL:  http://127.0.0.1:7866\n",
      "* To create a public link, set `share=True` in `launch()`.\n"
     ]
    },
    {
     "data": {
      "text/html": [
       "<div><iframe src=\"http://127.0.0.1:7866/\" width=\"100%\" height=\"500\" allow=\"autoplay; camera; microphone; clipboard-read; clipboard-write;\" frameborder=\"0\" allowfullscreen></iframe></div>"
      ],
      "text/plain": [
       "<IPython.core.display.HTML object>"
      ]
     },
     "metadata": {},
     "output_type": "display_data"
    }
   ],
   "source": [
    "view = gr.ChatInterface(chat, type=\"messages\").launch(inbrowser=True)"
   ]
  }
 ],
 "metadata": {
  "kernelspec": {
   "display_name": ".venv",
   "language": "python",
   "name": "python3"
  },
  "language_info": {
   "codemirror_mode": {
    "name": "ipython",
    "version": 3
   },
   "file_extension": ".py",
   "mimetype": "text/x-python",
   "name": "python",
   "nbconvert_exporter": "python",
   "pygments_lexer": "ipython3",
   "version": "3.12.4"
  }
 },
 "nbformat": 4,
 "nbformat_minor": 5
}
